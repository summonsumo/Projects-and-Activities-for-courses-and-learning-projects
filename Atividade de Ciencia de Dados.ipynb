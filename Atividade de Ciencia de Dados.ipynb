{
  "nbformat": 4,
  "nbformat_minor": 0,
  "metadata": {
    "colab": {
      "provenance": [],
      "collapsed_sections": [],
      "include_colab_link": true
    },
    "kernelspec": {
      "name": "python3",
      "display_name": "Python 3"
    },
    "language_info": {
      "name": "python"
    }
  },
  "cells": [
    {
      "cell_type": "markdown",
      "metadata": {
        "id": "view-in-github",
        "colab_type": "text"
      },
      "source": [
        "<a href=\"https://colab.research.google.com/github/summonsumo/Projects-and-Activities-for-courses-and-learning-projects/blob/main/Atividade%20de%20Ciencia%20de%20Dados.ipynb\" target=\"_parent\"><img src=\"https://colab.research.google.com/assets/colab-badge.svg\" alt=\"Open In Colab\"/></a>"
      ]
    },
    {
      "cell_type": "markdown",
      "source": [
        "# Importação da biblioteca"
      ],
      "metadata": {
        "id": "_6jTOkSI9R_C"
      }
    },
    {
      "cell_type": "code",
      "source": [
        "#Importando pandas\n",
        "import pandas as pd  \n",
        "\n",
        "#Configuração para deixar com apenas 2 decimais após a vírgula\n",
        "pd.options.display.float_format = \"{:,.2f}\".format\n",
        "\n",
        "  #É necessário utilizar o seu Google Drive ou modificar o caminho para permitir a leitura dos arquivos\n",
        "  #Outra opção é baixar e dar o upload dos arquivos, mudando o caminho\n",
        "from google.colab import drive #Carregando e montando o Drive\n",
        "drive.mount('/content/drive')"
      ],
      "metadata": {
        "id": "TTZjVDwJ9TWR",
        "colab": {
          "base_uri": "https://localhost:8080/"
        },
        "outputId": "0f8551b9-3eeb-4a04-e1d3-5d2a41c44fb5"
      },
      "execution_count": null,
      "outputs": [
        {
          "output_type": "stream",
          "name": "stdout",
          "text": [
            "Drive already mounted at /content/drive; to attempt to forcibly remount, call drive.mount(\"/content/drive\", force_remount=True).\n"
          ]
        }
      ]
    },
    {
      "cell_type": "markdown",
      "source": [
        "# Carregando Arquivos e tratando dados"
      ],
      "metadata": {
        "id": "rlqBc-Q67MqQ"
      }
    },
    {
      "cell_type": "code",
      "source": [
        "#Carregando arquivos .csv da Atividade Avaliativa\n",
        "tabela_metas = pd.read_csv('/Exercício de seleção - meta.csv')\n",
        "tabela_precos = pd.read_csv('/Exercício de seleção - preços.csv')\n",
        "tabela_vendas = pd.read_csv('/Exercício de seleção - vendas.csv') \n",
        "\n",
        "#Conversão das Colunas para o tipo a ser trabalhado\n",
        "tabela_metas = tabela_metas.astype({\"Meta Valor\" : int , \"Meta Unidades\" : int})\n",
        "\n",
        "tabela_precos['Preço'] = tabela_precos['Preço'].str.replace(',', '.').astype(float) #Conversão da Coluna \"Preço\" para Float\n",
        "tabela_vendas = tabela_vendas.astype({\"Unidades\": int}) \n",
        "\n",
        "#Interseção entre tabela vendas e preços\n",
        "tabela_agregados = tabela_vendas.merge(tabela_precos, how = 'inner', \n",
        "                                       on = 'Produto')\n",
        "\n",
        "#Multiplicação das Unidades com o preço para averiguar o valor total de receita\n",
        "tabela_agregados['Preço'] = tabela_agregados['Unidades'] * tabela_agregados['Preço']\n",
        "\n",
        "#Agrupamento da coluna Loja\n",
        "tabela_final = tabela_agregados.groupby(['Loja','Ano']).sum()"
      ],
      "metadata": {
        "id": "83pUdMZIC5ny"
      },
      "execution_count": null,
      "outputs": []
    },
    {
      "cell_type": "markdown",
      "source": [
        "# Resolução da Atividade"
      ],
      "metadata": {
        "id": "9nVCVfuVoEfa"
      }
    },
    {
      "cell_type": "code",
      "source": [
        "#Renomear coluna Data da tabela_metas para Ano\n",
        "tabela_metas = tabela_metas.rename(columns = {'Data':'Ano'}) \n",
        "\n",
        "#Interseção entre a tabela metas e tabela final\n",
        "tabela_final = tabela_final.merge(tabela_metas, how = 'right', on = ['Loja','Ano'])\n",
        "\n",
        "  #Atualização da tabela_final, substituindo o Ano para a primeira coluna,\n",
        "  #colocando as colunas devidas de % Meta Valor ((Valor/Meta Valor) * 100) e \n",
        "  #% Meta Unidade ((Unidades/Meta Unidades) * 100) \n",
        "tabela_final = pd.DataFrame({'Ano' : tabela_metas['Ano'], 'Loja' : tabela_metas['Loja'],'% Meta Valor' :\n",
        "                             (tabela_final['Preço']/tabela_metas['Meta Valor'])*100, \n",
        "                             '% Meta Unidades' :(tabela_final['Unidades']/tabela_metas['Meta Unidades'])* 100 })\n",
        "\n",
        "#Arquivo de envio, carregamento do DataFrame para CSV\n",
        "tabela_final.to_csv(\"Atividade_Avaliativa_Daniel_Mattos.csv\", index = False, float_format='%.2f')"
      ],
      "metadata": {
        "id": "ALPK004woJyo",
        "colab": {
          "base_uri": "https://localhost:8080/",
          "height": 571
        },
        "outputId": "b5d8ff49-45c6-41db-de4e-2708aa5833e7"
      },
      "execution_count": null,
      "outputs": [
        {
          "output_type": "error",
          "ename": "KeyError",
          "evalue": "ignored",
          "traceback": [
            "\u001b[0;31m---------------------------------------------------------------------------\u001b[0m",
            "\u001b[0;31mKeyError\u001b[0m                                  Traceback (most recent call last)",
            "\u001b[0;32m/usr/local/lib/python3.7/dist-packages/pandas/core/indexes/base.py\u001b[0m in \u001b[0;36mget_loc\u001b[0;34m(self, key, method, tolerance)\u001b[0m\n\u001b[1;32m   3360\u001b[0m             \u001b[0;32mtry\u001b[0m\u001b[0;34m:\u001b[0m\u001b[0;34m\u001b[0m\u001b[0;34m\u001b[0m\u001b[0m\n\u001b[0;32m-> 3361\u001b[0;31m                 \u001b[0;32mreturn\u001b[0m \u001b[0mself\u001b[0m\u001b[0;34m.\u001b[0m\u001b[0m_engine\u001b[0m\u001b[0;34m.\u001b[0m\u001b[0mget_loc\u001b[0m\u001b[0;34m(\u001b[0m\u001b[0mcasted_key\u001b[0m\u001b[0;34m)\u001b[0m\u001b[0;34m\u001b[0m\u001b[0;34m\u001b[0m\u001b[0m\n\u001b[0m\u001b[1;32m   3362\u001b[0m             \u001b[0;32mexcept\u001b[0m \u001b[0mKeyError\u001b[0m \u001b[0;32mas\u001b[0m \u001b[0merr\u001b[0m\u001b[0;34m:\u001b[0m\u001b[0;34m\u001b[0m\u001b[0;34m\u001b[0m\u001b[0m\n",
            "\u001b[0;32m/usr/local/lib/python3.7/dist-packages/pandas/_libs/index.pyx\u001b[0m in \u001b[0;36mpandas._libs.index.IndexEngine.get_loc\u001b[0;34m()\u001b[0m\n",
            "\u001b[0;32m/usr/local/lib/python3.7/dist-packages/pandas/_libs/index.pyx\u001b[0m in \u001b[0;36mpandas._libs.index.IndexEngine.get_loc\u001b[0;34m()\u001b[0m\n",
            "\u001b[0;32mpandas/_libs/hashtable_class_helper.pxi\u001b[0m in \u001b[0;36mpandas._libs.hashtable.PyObjectHashTable.get_item\u001b[0;34m()\u001b[0m\n",
            "\u001b[0;32mpandas/_libs/hashtable_class_helper.pxi\u001b[0m in \u001b[0;36mpandas._libs.hashtable.PyObjectHashTable.get_item\u001b[0;34m()\u001b[0m\n",
            "\u001b[0;31mKeyError\u001b[0m: 'Preço'",
            "\nThe above exception was the direct cause of the following exception:\n",
            "\u001b[0;31mKeyError\u001b[0m                                  Traceback (most recent call last)",
            "\u001b[0;32m<ipython-input-8-7c0307741be8>\u001b[0m in \u001b[0;36m<module>\u001b[0;34m\u001b[0m\n\u001b[1;32m      9\u001b[0m   \u001b[0;31m#% Meta Unidade ((Unidades/Meta Unidades) * 100)\u001b[0m\u001b[0;34m\u001b[0m\u001b[0;34m\u001b[0m\u001b[0;34m\u001b[0m\u001b[0m\n\u001b[1;32m     10\u001b[0m tabela_final = pd.DataFrame({'Ano' : tabela_metas['Ano'], 'Loja' : tabela_metas['Loja'],'% Meta Valor' :\n\u001b[0;32m---> 11\u001b[0;31m                              \u001b[0;34m(\u001b[0m\u001b[0mtabela_final\u001b[0m\u001b[0;34m[\u001b[0m\u001b[0;34m'Preço'\u001b[0m\u001b[0;34m]\u001b[0m\u001b[0;34m/\u001b[0m\u001b[0mtabela_metas\u001b[0m\u001b[0;34m[\u001b[0m\u001b[0;34m'Meta Valor'\u001b[0m\u001b[0;34m]\u001b[0m\u001b[0;34m)\u001b[0m\u001b[0;34m*\u001b[0m\u001b[0;36m100\u001b[0m\u001b[0;34m,\u001b[0m\u001b[0;34m\u001b[0m\u001b[0;34m\u001b[0m\u001b[0m\n\u001b[0m\u001b[1;32m     12\u001b[0m                              '% Meta Unidades' :(tabela_final['Unidades']/tabela_metas['Meta Unidades'])* 100 })\n\u001b[1;32m     13\u001b[0m \u001b[0;34m\u001b[0m\u001b[0m\n",
            "\u001b[0;32m/usr/local/lib/python3.7/dist-packages/pandas/core/frame.py\u001b[0m in \u001b[0;36m__getitem__\u001b[0;34m(self, key)\u001b[0m\n\u001b[1;32m   3456\u001b[0m             \u001b[0;32mif\u001b[0m \u001b[0mself\u001b[0m\u001b[0;34m.\u001b[0m\u001b[0mcolumns\u001b[0m\u001b[0;34m.\u001b[0m\u001b[0mnlevels\u001b[0m \u001b[0;34m>\u001b[0m \u001b[0;36m1\u001b[0m\u001b[0;34m:\u001b[0m\u001b[0;34m\u001b[0m\u001b[0;34m\u001b[0m\u001b[0m\n\u001b[1;32m   3457\u001b[0m                 \u001b[0;32mreturn\u001b[0m \u001b[0mself\u001b[0m\u001b[0;34m.\u001b[0m\u001b[0m_getitem_multilevel\u001b[0m\u001b[0;34m(\u001b[0m\u001b[0mkey\u001b[0m\u001b[0;34m)\u001b[0m\u001b[0;34m\u001b[0m\u001b[0;34m\u001b[0m\u001b[0m\n\u001b[0;32m-> 3458\u001b[0;31m             \u001b[0mindexer\u001b[0m \u001b[0;34m=\u001b[0m \u001b[0mself\u001b[0m\u001b[0;34m.\u001b[0m\u001b[0mcolumns\u001b[0m\u001b[0;34m.\u001b[0m\u001b[0mget_loc\u001b[0m\u001b[0;34m(\u001b[0m\u001b[0mkey\u001b[0m\u001b[0;34m)\u001b[0m\u001b[0;34m\u001b[0m\u001b[0;34m\u001b[0m\u001b[0m\n\u001b[0m\u001b[1;32m   3459\u001b[0m             \u001b[0;32mif\u001b[0m \u001b[0mis_integer\u001b[0m\u001b[0;34m(\u001b[0m\u001b[0mindexer\u001b[0m\u001b[0;34m)\u001b[0m\u001b[0;34m:\u001b[0m\u001b[0;34m\u001b[0m\u001b[0;34m\u001b[0m\u001b[0m\n\u001b[1;32m   3460\u001b[0m                 \u001b[0mindexer\u001b[0m \u001b[0;34m=\u001b[0m \u001b[0;34m[\u001b[0m\u001b[0mindexer\u001b[0m\u001b[0;34m]\u001b[0m\u001b[0;34m\u001b[0m\u001b[0;34m\u001b[0m\u001b[0m\n",
            "\u001b[0;32m/usr/local/lib/python3.7/dist-packages/pandas/core/indexes/base.py\u001b[0m in \u001b[0;36mget_loc\u001b[0;34m(self, key, method, tolerance)\u001b[0m\n\u001b[1;32m   3361\u001b[0m                 \u001b[0;32mreturn\u001b[0m \u001b[0mself\u001b[0m\u001b[0;34m.\u001b[0m\u001b[0m_engine\u001b[0m\u001b[0;34m.\u001b[0m\u001b[0mget_loc\u001b[0m\u001b[0;34m(\u001b[0m\u001b[0mcasted_key\u001b[0m\u001b[0;34m)\u001b[0m\u001b[0;34m\u001b[0m\u001b[0;34m\u001b[0m\u001b[0m\n\u001b[1;32m   3362\u001b[0m             \u001b[0;32mexcept\u001b[0m \u001b[0mKeyError\u001b[0m \u001b[0;32mas\u001b[0m \u001b[0merr\u001b[0m\u001b[0;34m:\u001b[0m\u001b[0;34m\u001b[0m\u001b[0;34m\u001b[0m\u001b[0m\n\u001b[0;32m-> 3363\u001b[0;31m                 \u001b[0;32mraise\u001b[0m \u001b[0mKeyError\u001b[0m\u001b[0;34m(\u001b[0m\u001b[0mkey\u001b[0m\u001b[0;34m)\u001b[0m \u001b[0;32mfrom\u001b[0m \u001b[0merr\u001b[0m\u001b[0;34m\u001b[0m\u001b[0;34m\u001b[0m\u001b[0m\n\u001b[0m\u001b[1;32m   3364\u001b[0m \u001b[0;34m\u001b[0m\u001b[0m\n\u001b[1;32m   3365\u001b[0m         \u001b[0;32mif\u001b[0m \u001b[0mis_scalar\u001b[0m\u001b[0;34m(\u001b[0m\u001b[0mkey\u001b[0m\u001b[0;34m)\u001b[0m \u001b[0;32mand\u001b[0m \u001b[0misna\u001b[0m\u001b[0;34m(\u001b[0m\u001b[0mkey\u001b[0m\u001b[0;34m)\u001b[0m \u001b[0;32mand\u001b[0m \u001b[0;32mnot\u001b[0m \u001b[0mself\u001b[0m\u001b[0;34m.\u001b[0m\u001b[0mhasnans\u001b[0m\u001b[0;34m:\u001b[0m\u001b[0;34m\u001b[0m\u001b[0;34m\u001b[0m\u001b[0m\n",
            "\u001b[0;31mKeyError\u001b[0m: 'Preço'"
          ]
        }
      ]
    },
    {
      "cell_type": "markdown",
      "source": [
        "#<center>**MUITO OBRIGADO!**\n",
        "\n"
      ],
      "metadata": {
        "id": "xFI9q6kH03Dq"
      }
    }
  ]
}